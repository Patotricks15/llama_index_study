{
 "cells": [
  {
   "cell_type": "code",
   "execution_count": 20,
   "metadata": {},
   "outputs": [],
   "source": [
    "from llama_index.tools.tavily_research import TavilyToolSpec\n",
    "import os\n",
    "from llama_index.llms.ollama import Ollama\n",
    "from llama_index.core.agent.workflow import FunctionAgent, AgentWorkflow\n",
    "from llama_index.core.agent.workflow import (\n",
    "    AgentInput,\n",
    "    AgentOutput,\n",
    "    ToolCall,\n",
    "    ToolCallResult,\n",
    "    AgentStream,\n",
    ")\n",
    "from llama_index.llms.openai import OpenAI"
   ]
  },
  {
   "cell_type": "code",
   "execution_count": 21,
   "metadata": {},
   "outputs": [],
   "source": [
    "tavily_tool = TavilyToolSpec(api_key=os.getenv(\"TAVILY_API_KEY\"))"
   ]
  },
  {
   "cell_type": "code",
   "execution_count": 22,
   "metadata": {},
   "outputs": [],
   "source": [
    "#llm = Ollama(\"llama3.2:1b\")\n",
    "llm = OpenAI(model=\"gpt-3.5-turbo-1106\", temperature=0)"
   ]
  },
  {
   "cell_type": "code",
   "execution_count": 23,
   "metadata": {},
   "outputs": [],
   "source": [
    "workflow = AgentWorkflow.from_tools_or_functions(\n",
    "    tavily_tool.to_tool_list(),\n",
    "    llm = llm,\n",
    "    system_prompt = \"You are a helpful assistant that can search the web for information\"\n",
    ")"
   ]
  },
  {
   "cell_type": "code",
   "execution_count": 24,
   "metadata": {},
   "outputs": [],
   "source": [
    "from llama_index.core.agent.workflow import AgentStream"
   ]
  },
  {
   "cell_type": "code",
   "execution_count": 26,
   "metadata": {},
   "outputs": [
    {
     "name": "stdout",
     "output_type": "stream",
     "text": [
      "Agent input:  [ChatMessage(role=<MessageRole.SYSTEM: 'system'>, additional_kwargs={}, blocks=[TextBlock(block_type='text', text='You are a helpful assistant that can search the web for information')]), ChatMessage(role=<MessageRole.USER: 'user'>, additional_kwargs={}, blocks=[TextBlock(block_type='text', text=\"What's the weather like in Inhoaíba right now?\")])]\n",
      "Agent name: Agent\n"
     ]
    },
    {
     "name": "stdout",
     "output_type": "stream",
     "text": [
      "Agent output:  assistant: None\n",
      "Tool calls made:  [ToolSelection(tool_id='call_2bqNhzh4ZIRLE1bUaLcIpgkZ', tool_name='search', tool_kwargs={'query': 'weather in Inhoa\\\\u00edba', 'max_results': 3})]\n",
      "Raw LLM response:  {'id': 'chatcmpl-BJ3lPuUEAFjkJi03C7IlCKA7H1mj4', 'choices': [{'delta': {'content': None, 'function_call': None, 'refusal': None, 'role': None, 'tool_calls': None}, 'finish_reason': 'tool_calls', 'index': 0, 'logprobs': None}], 'created': 1743882399, 'model': 'gpt-3.5-turbo-1106', 'object': 'chat.completion.chunk', 'service_tier': 'default', 'system_fingerprint': 'fp_c66b5540ac', 'usage': None}\n",
      "Tool called:  search\n",
      "Arguments to the tool:  {'query': 'weather in Inhoa\\\\u00edba', 'max_results': 3}\n",
      "Tool output:  [Document(id_='b423323c-860c-4ff9-a5b6-48303f9458a5', embedding=None, metadata={'url': 'https://climatempo.info/27708/inhoaiba'}, excluded_embed_metadata_keys=[], excluded_llm_metadata_keys=[], relationships={}, metadata_template='{key}: {value}', metadata_separator='\\n', text_resource=MediaResource(embeddings=None, data=None, text='Como está o tempo a amanhã em Inhoaíba? amanhã Sábado, 5 Abril 2025 ano. Temperatura +22 °. Pressão 766 mm Hg Humidade 95%. Vento Sudeste 3.8 metros', path=None, url=None, mimetype=None), image_resource=None, audio_resource=None, video_resource=None, text_template='{metadata_str}\\n\\n{content}'), Document(id_='8fe33ca2-a666-43cd-a081-af9b853c75f4', embedding=None, metadata={'url': 'https://www.weatherapi.com/'}, excluded_embed_metadata_keys=[], excluded_llm_metadata_keys=[], relationships={}, metadata_template='{key}: {value}', metadata_separator='\\n', text_resource=MediaResource(embeddings=None, data=None, text=\"{'location': {'name': 'Inhoaíba', 'region': 'Rio de Janeiro', 'country': 'ブラジル', 'lat': -22.9081, 'lon': -43.6014, 'tz_id': 'America/Sao_Paulo', 'localtime_epoch': 1743882397, 'localtime': '2025-04-05 16:46'}, 'current': {'last_updated_epoch': 1743882300, 'last_updated': '2025-04-05 16:45', 'temp_c': 23.1, 'temp_f': 73.6, 'is_day': 1, 'condition': {'text': 'Light rain', 'icon': '//cdn.weatherapi.com/weather/64x64/day/296.png', 'code': 1183}, 'wind_mph': 14.1, 'wind_kph': 22.7, 'wind_degree': 174, 'wind_dir': 'S', 'pressure_mb': 1022.0, 'pressure_in': 30.18, 'precip_mm': 0.22, 'precip_in': 0.01, 'humidity': 83, 'cloud': 100, 'feelslike_c': 25.1, 'feelslike_f': 77.2, 'windchill_c': 22.9, 'windchill_f': 73.2, 'heatindex_c': 25.0, 'heatindex_f': 77.0, 'dewpoint_c': 19.0, 'dewpoint_f': 66.3, 'vis_km': 5.0, 'vis_miles': 3.0, 'uv': 0.2, 'gust_mph': 22.0, 'gust_kph': 35.4}}\", path=None, url=None, mimetype=None), image_resource=None, audio_resource=None, video_resource=None, text_template='{metadata_str}\\n\\n{content}'), Document(id_='27a816d9-b584-4cf4-9983-7587dddd629a', embedding=None, metadata={'url': 'https://meteotrend.com/forecast/br/inhoaiba/'}, excluded_embed_metadata_keys=[], excluded_llm_metadata_keys=[], relationships={}, metadata_template='{key}: {value}', metadata_separator='\\n', text_resource=MediaResource(embeddings=None, data=None, text='The Sun: Sunrise 05:12, Sunset 18:43. ; The Moon: Moonrise 05:32, Moonset 19:41, Moon phase: new new ; Geomagnetic Field: Strong Storm ; Water temperature: +24 °C.', path=None, url=None, mimetype=None), image_resource=None, audio_resource=None, video_resource=None, text_template='{metadata_str}\\n\\n{content}')]\n",
      "Agent input:  [ChatMessage(role=<MessageRole.SYSTEM: 'system'>, additional_kwargs={}, blocks=[TextBlock(block_type='text', text='You are a helpful assistant that can search the web for information')]), ChatMessage(role=<MessageRole.USER: 'user'>, additional_kwargs={}, blocks=[TextBlock(block_type='text', text=\"What's the weather like in Inhoaíba right now?\")]), ChatMessage(role=<MessageRole.ASSISTANT: 'assistant'>, additional_kwargs={'tool_calls': [ChoiceDeltaToolCall(index=0, id='call_2bqNhzh4ZIRLE1bUaLcIpgkZ', function=ChoiceDeltaToolCallFunction(arguments='{\"query\":\"weather in Inhoa\\\\\\\\u00edba\",\"max_results\":3}', name='search'), type='function')]}, blocks=[TextBlock(block_type='text', text='')]), ChatMessage(role=<MessageRole.TOOL: 'tool'>, additional_kwargs={'tool_call_id': 'call_2bqNhzh4ZIRLE1bUaLcIpgkZ'}, blocks=[TextBlock(block_type='text', text='[Document(id_=\\'b423323c-860c-4ff9-a5b6-48303f9458a5\\', embedding=None, metadata={\\'url\\': \\'https://climatempo.info/27708/inhoaiba\\'}, excluded_embed_metadata_keys=[], excluded_llm_metadata_keys=[], relationships={}, metadata_template=\\'{key}: {value}\\', metadata_separator=\\'\\\\n\\', text_resource=MediaResource(embeddings=None, data=None, text=\\'Como está o tempo a amanhã em Inhoaíba? amanhã Sábado, 5 Abril 2025 ano. Temperatura +22 °. Pressão 766 mm Hg Humidade 95%. Vento Sudeste 3.8 metros\\', path=None, url=None, mimetype=None), image_resource=None, audio_resource=None, video_resource=None, text_template=\\'{metadata_str}\\\\n\\\\n{content}\\'), Document(id_=\\'8fe33ca2-a666-43cd-a081-af9b853c75f4\\', embedding=None, metadata={\\'url\\': \\'https://www.weatherapi.com/\\'}, excluded_embed_metadata_keys=[], excluded_llm_metadata_keys=[], relationships={}, metadata_template=\\'{key}: {value}\\', metadata_separator=\\'\\\\n\\', text_resource=MediaResource(embeddings=None, data=None, text=\"{\\'location\\': {\\'name\\': \\'Inhoaíba\\', \\'region\\': \\'Rio de Janeiro\\', \\'country\\': \\'ブラジル\\', \\'lat\\': -22.9081, \\'lon\\': -43.6014, \\'tz_id\\': \\'America/Sao_Paulo\\', \\'localtime_epoch\\': 1743882397, \\'localtime\\': \\'2025-04-05 16:46\\'}, \\'current\\': {\\'last_updated_epoch\\': 1743882300, \\'last_updated\\': \\'2025-04-05 16:45\\', \\'temp_c\\': 23.1, \\'temp_f\\': 73.6, \\'is_day\\': 1, \\'condition\\': {\\'text\\': \\'Light rain\\', \\'icon\\': \\'//cdn.weatherapi.com/weather/64x64/day/296.png\\', \\'code\\': 1183}, \\'wind_mph\\': 14.1, \\'wind_kph\\': 22.7, \\'wind_degree\\': 174, \\'wind_dir\\': \\'S\\', \\'pressure_mb\\': 1022.0, \\'pressure_in\\': 30.18, \\'precip_mm\\': 0.22, \\'precip_in\\': 0.01, \\'humidity\\': 83, \\'cloud\\': 100, \\'feelslike_c\\': 25.1, \\'feelslike_f\\': 77.2, \\'windchill_c\\': 22.9, \\'windchill_f\\': 73.2, \\'heatindex_c\\': 25.0, \\'heatindex_f\\': 77.0, \\'dewpoint_c\\': 19.0, \\'dewpoint_f\\': 66.3, \\'vis_km\\': 5.0, \\'vis_miles\\': 3.0, \\'uv\\': 0.2, \\'gust_mph\\': 22.0, \\'gust_kph\\': 35.4}}\", path=None, url=None, mimetype=None), image_resource=None, audio_resource=None, video_resource=None, text_template=\\'{metadata_str}\\\\n\\\\n{content}\\'), Document(id_=\\'27a816d9-b584-4cf4-9983-7587dddd629a\\', embedding=None, metadata={\\'url\\': \\'https://meteotrend.com/forecast/br/inhoaiba/\\'}, excluded_embed_metadata_keys=[], excluded_llm_metadata_keys=[], relationships={}, metadata_template=\\'{key}: {value}\\', metadata_separator=\\'\\\\n\\', text_resource=MediaResource(embeddings=None, data=None, text=\\'The Sun: Sunrise 05:12, Sunset 18:43. ; The Moon: Moonrise 05:32, Moonset 19:41, Moon phase: new new ; Geomagnetic Field: Strong Storm ; Water temperature: +24 °C.\\', path=None, url=None, mimetype=None), image_resource=None, audio_resource=None, video_resource=None, text_template=\\'{metadata_str}\\\\n\\\\n{content}\\')]')])]\n",
      "Agent name: Agent\n",
      "The current weather in Inhoaíba, Rio de Janeiro, Brazil is as follows:\n",
      "- Temperature: 23.1°C\n",
      "- Condition: Light rain\n",
      "- Wind: 22.7 km/h from the south\n",
      "- Humidity: 83%\n",
      "- Cloud Cover: 100%\n",
      "- Visibility: 5.0 km\n",
      "\n",
      "For more details, you can visit [Weather API](https://www.weatherapi.com/).Agent output:  assistant: The current weather in Inhoaíba, Rio de Janeiro, Brazil is as follows:\n",
      "- Temperature: 23.1°C\n",
      "- Condition: Light rain\n",
      "- Wind: 22.7 km/h from the south\n",
      "- Humidity: 83%\n",
      "- Cloud Cover: 100%\n",
      "- Visibility: 5.0 km\n",
      "\n",
      "For more details, you can visit [Weather API](https://www.weatherapi.com/).\n",
      "Tool calls made:  []\n",
      "Raw LLM response:  {'id': 'chatcmpl-BJ3lVsGqz7IervejSD3inlaR9K8BV', 'choices': [{'delta': {'content': None, 'function_call': None, 'refusal': None, 'role': None, 'tool_calls': None}, 'finish_reason': 'stop', 'index': 0, 'logprobs': None}], 'created': 1743882405, 'model': 'gpt-3.5-turbo-1106', 'object': 'chat.completion.chunk', 'service_tier': 'default', 'system_fingerprint': 'fp_c66b5540ac', 'usage': None}\n",
      "The current weather in Inhoaíba, Rio de Janeiro, Brazil is as follows:\n",
      "- Temperature: 23.1°C\n",
      "- Condition: Light rain\n",
      "- Wind: 22.7 km/h from the south\n",
      "- Humidity: 83%\n",
      "- Cloud Cover: 100%\n",
      "- Visibility: 5.0 km\n",
      "\n",
      "For more details, you can visit [Weather API](https://www.weatherapi.com/).\n"
     ]
    }
   ],
   "source": [
    "async def main():\n",
    "    handler = workflow.run(user_msg=\"What's the weather like in Inhoaíba right now?\")\n",
    "\n",
    "    # handle streaming output\n",
    "    async for event in handler.stream_events():\n",
    "        if isinstance(event, AgentStream):\n",
    "            print(event.delta, end=\"\", flush=True)\n",
    "        elif isinstance(event, AgentInput):\n",
    "            print(\"Agent input: \", event.input)  # the current input messages\n",
    "            print(\"Agent name:\", event.current_agent_name)  # the current agent name\n",
    "        elif isinstance(event, AgentOutput):\n",
    "            print(\"Agent output: \", event.response)  # the current full response\n",
    "            print(\"Tool calls made: \", event.tool_calls)  # the selected tool calls, if any\n",
    "            print(\"Raw LLM response: \", event.raw)  # the raw llm api response\n",
    "        elif isinstance(event, ToolCallResult):\n",
    "            print(\"Tool called: \", event.tool_name)  # the tool name\n",
    "            print(\"Arguments to the tool: \", event.tool_kwargs)  # the tool kwargs\n",
    "            print(\"Tool output: \", event.tool_output)  # the tool output            \n",
    "\n",
    "    # print final output\n",
    "    print(str(await handler))\n",
    "\n",
    "if __name__ == \"__main__\":\n",
    "    import asyncio\n",
    "    asyncio.run(main())"
   ]
  },
  {
   "cell_type": "code",
   "execution_count": 9,
   "metadata": {},
   "outputs": [],
   "source": [
    "import nest_asyncio\n",
    "nest_asyncio.apply()"
   ]
  },
  {
   "cell_type": "code",
   "execution_count": null,
   "metadata": {},
   "outputs": [],
   "source": []
  }
 ],
 "metadata": {
  "kernelspec": {
   "display_name": "venv",
   "language": "python",
   "name": "python3"
  },
  "language_info": {
   "codemirror_mode": {
    "name": "ipython",
    "version": 3
   },
   "file_extension": ".py",
   "mimetype": "text/x-python",
   "name": "python",
   "nbconvert_exporter": "python",
   "pygments_lexer": "ipython3",
   "version": "3.12.3"
  }
 },
 "nbformat": 4,
 "nbformat_minor": 2
}
