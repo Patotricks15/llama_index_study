{
 "cells": [
  {
   "cell_type": "code",
   "execution_count": 20,
   "metadata": {},
   "outputs": [],
   "source": [
    "from llama_index.tools.tavily_research import TavilyToolSpec\n",
    "import os\n",
    "from llama_index.llms.ollama import Ollama\n",
    "from llama_index.core.agent.workflow import FunctionAgent, AgentWorkflow\n",
    "from llama_index.core.agent.workflow import (\n",
    "    AgentInput,\n",
    "    AgentOutput,\n",
    "    ToolCall,\n",
    "    ToolCallResult,\n",
    "    AgentStream,\n",
    ")\n",
    "from llama_index.llms.openai import OpenAI"
   ]
  },
  {
   "cell_type": "code",
   "execution_count": 21,
   "metadata": {},
   "outputs": [],
   "source": [
    "tavily_tool = TavilyToolSpec(api_key=os.getenv(\"TAVILY_API_KEY\"))"
   ]
  },
  {
   "cell_type": "code",
   "execution_count": 22,
   "metadata": {},
   "outputs": [],
   "source": [
    "#llm = Ollama(\"llama3.2:1b\")\n",
    "llm = OpenAI(model=\"gpt-3.5-turbo-1106\", temperature=0)"
   ]
  },
  {
   "cell_type": "code",
   "execution_count": 23,
   "metadata": {},
   "outputs": [],
   "source": [
    "workflow = AgentWorkflow.from_tools_or_functions(\n",
    "    tavily_tool.to_tool_list(),\n",
    "    llm = llm,\n",
    "    system_prompt = \"You are a helpful assistant that can search the web for information\"\n",
    ")"
   ]
  },
  {
   "cell_type": "code",
   "execution_count": 24,
   "metadata": {},
   "outputs": [],
   "source": [
    "from llama_index.core.agent.workflow import AgentStream"
   ]
  },
  {
   "cell_type": "code",
   "execution_count": 27,
   "metadata": {},
   "outputs": [
    {
     "name": "stdout",
     "output_type": "stream",
     "text": [
      "Agent input:  [ChatMessage(role=<MessageRole.SYSTEM: 'system'>, additional_kwargs={}, blocks=[TextBlock(block_type='text', text='You are a helpful assistant that can search the web for information')]), ChatMessage(role=<MessageRole.USER: 'user'>, additional_kwargs={}, blocks=[TextBlock(block_type='text', text=\"What's the weather like in Rio de Janeiro right now?\")])]\n",
      "Agent name: Agent\n"
     ]
    },
    {
     "name": "stdout",
     "output_type": "stream",
     "text": [
      "Agent output:  assistant: None\n",
      "Tool calls made:  [ToolSelection(tool_id='call_axKrYsLfAWwJJTPrKSb3ZUdU', tool_name='search', tool_kwargs={'query': 'weather in Rio de Janeiro', 'max_results': 3})]\n",
      "Raw LLM response:  {'id': 'chatcmpl-BJ3mfPo67LxtnBsIQjclUa6nkIHRX', 'choices': [{'delta': {'content': None, 'function_call': None, 'refusal': None, 'role': None, 'tool_calls': None}, 'finish_reason': 'tool_calls', 'index': 0, 'logprobs': None}], 'created': 1743882477, 'model': 'gpt-3.5-turbo-1106', 'object': 'chat.completion.chunk', 'service_tier': 'default', 'system_fingerprint': 'fp_c66b5540ac', 'usage': None}\n",
      "Tool called:  search\n",
      "Arguments to the tool:  {'query': 'weather in Rio de Janeiro', 'max_results': 3}\n",
      "Tool output:  [Document(id_='b59e9173-1452-45b8-9119-f386a524b59a', embedding=None, metadata={'url': 'https://www.weather25.com/south-america/brazil/rio-de-janeiro?page=month&month=May'}, excluded_embed_metadata_keys=[], excluded_llm_metadata_keys=[], relationships={}, metadata_template='{key}: {value}', metadata_separator='\\n', text_resource=MediaResource(embeddings=None, data=None, text='Rio De Janeiro weather in May 2025\\n\\nThe temperatures in Rio De Janeiro in May are comfortable with low of 17°C and and high up to 26°C.\\n\\nYou can expect about 3 to 8 days of rain in Rio De Janeiro during the month of May. It’s a good idea to bring along your umbrella so that you don’t get caught in poor weather.\\n\\nOur weather forecast can give you a great sense of what weather to expect in Rio De Janeiro in May 2025. [...] Month | Temperatures | Rainy Days | Dry Days | Snowy Days | Rainfall | Weather | More details\\nJanuary | 31°/22° | 15 | 16 | 0 | 340mm | Ok | Rio De Janeiro in January\\nFebruary | 31°/22° | 13 | 16 | 0 | 294mm | Ok | Rio De Janeiro in February\\nMarch | 30°/21° | 14 | 17 | 0 | 305mm | Ok | Rio De Janeiro in March\\nApril | 28°/19° | 7 | 23 | 0 | 136mm | Good | Rio De Janeiro in April\\nMay | 26°/17° | 4 | 27 | 0 | 110mm | Perfect | Rio De Janeiro in May [...] June | 25°/16° | 4 | 26 | 0 | 93mm | Perfect | Rio De Janeiro in June\\nJuly | 26°/16° | 4 | 27 | 0 | 71mm | Perfect | Rio De Janeiro in July\\nAugust | 26°/17° | 4 | 27 | 0 | 76mm | Perfect | Rio De Janeiro in August\\nSeptember | 28°/19° | 6 | 24 | 0 | 124mm | Perfect | Rio De Janeiro in September\\nOctober | 28°/20° | 9 | 22 | 0 | 200mm | Good | Rio De Janeiro in October\\nNovember | 28°/20° | 14 | 16 | 0 | 364mm | Good | Rio De Janeiro in November', path=None, url=None, mimetype=None), image_resource=None, audio_resource=None, video_resource=None, text_template='{metadata_str}\\n\\n{content}'), Document(id_='df6b7edf-7346-458c-8eb5-e76f2b56f802', embedding=None, metadata={'url': 'https://www.weatherapi.com/'}, excluded_embed_metadata_keys=[], excluded_llm_metadata_keys=[], relationships={}, metadata_template='{key}: {value}', metadata_separator='\\n', text_resource=MediaResource(embeddings=None, data=None, text=\"{'location': {'name': 'Rio De Janeiro', 'region': 'Rio de Janeiro', 'country': 'Brazil', 'lat': -22.9, 'lon': -43.2333, 'tz_id': 'America/Sao_Paulo', 'localtime_epoch': 1743882474, 'localtime': '2025-04-05 16:47'}, 'current': {'last_updated_epoch': 1743882300, 'last_updated': '2025-04-05 16:45', 'temp_c': 24.3, 'temp_f': 75.7, 'is_day': 1, 'condition': {'text': 'Overcast', 'icon': '//cdn.weatherapi.com/weather/64x64/day/122.png', 'code': 1009}, 'wind_mph': 10.1, 'wind_kph': 16.2, 'wind_degree': 171, 'wind_dir': 'S', 'pressure_mb': 1021.0, 'pressure_in': 30.15, 'precip_mm': 0.79, 'precip_in': 0.03, 'humidity': 83, 'cloud': 100, 'feelslike_c': 26.5, 'feelslike_f': 79.6, 'windchill_c': 22.4, 'windchill_f': 72.4, 'heatindex_c': 24.7, 'heatindex_f': 76.5, 'dewpoint_c': 19.8, 'dewpoint_f': 67.6, 'vis_km': 8.0, 'vis_miles': 4.0, 'uv': 0.1, 'gust_mph': 15.7, 'gust_kph': 25.3}}\", path=None, url=None, mimetype=None), image_resource=None, audio_resource=None, video_resource=None, text_template='{metadata_str}\\n\\n{content}'), Document(id_='023f7996-31dd-44de-8110-92211926ce20', embedding=None, metadata={'url': 'https://www.ventusky.com/-22.910;-43.180'}, excluded_embed_metadata_keys=[], excluded_llm_metadata_keys=[], relationships={}, metadata_template='{key}: {value}', metadata_separator='\\n', text_resource=MediaResource(embeddings=None, data=None, text='Ventusky: Weather Forecast Maps\\n\\nRio de Janeiro\\n\\n | 24 °C\\n\\nWind20 km/h\\nHumidity | 83 %\\nVisibility | 8 km\\nClouds | 100 %\\nCloud base | 609 m\\nWeather report from station Santos Dumont/ri, Distance: 3 km (16:00 2025/04/05)\\n\\nWeather for the next 24 hours', path=None, url=None, mimetype=None), image_resource=None, audio_resource=None, video_resource=None, text_template='{metadata_str}\\n\\n{content}')]\n",
      "Agent input:  [ChatMessage(role=<MessageRole.SYSTEM: 'system'>, additional_kwargs={}, blocks=[TextBlock(block_type='text', text='You are a helpful assistant that can search the web for information')]), ChatMessage(role=<MessageRole.USER: 'user'>, additional_kwargs={}, blocks=[TextBlock(block_type='text', text=\"What's the weather like in Rio de Janeiro right now?\")]), ChatMessage(role=<MessageRole.ASSISTANT: 'assistant'>, additional_kwargs={'tool_calls': [ChoiceDeltaToolCall(index=0, id='call_axKrYsLfAWwJJTPrKSb3ZUdU', function=ChoiceDeltaToolCallFunction(arguments='{\"query\":\"weather in Rio de Janeiro\",\"max_results\":3}', name='search'), type='function')]}, blocks=[TextBlock(block_type='text', text='')]), ChatMessage(role=<MessageRole.TOOL: 'tool'>, additional_kwargs={'tool_call_id': 'call_axKrYsLfAWwJJTPrKSb3ZUdU'}, blocks=[TextBlock(block_type='text', text='[Document(id_=\\'b59e9173-1452-45b8-9119-f386a524b59a\\', embedding=None, metadata={\\'url\\': \\'https://www.weather25.com/south-america/brazil/rio-de-janeiro?page=month&month=May\\'}, excluded_embed_metadata_keys=[], excluded_llm_metadata_keys=[], relationships={}, metadata_template=\\'{key}: {value}\\', metadata_separator=\\'\\\\n\\', text_resource=MediaResource(embeddings=None, data=None, text=\\'Rio De Janeiro weather in May 2025\\\\n\\\\nThe temperatures in Rio De Janeiro in May are comfortable with low of 17°C and and high up to 26°C.\\\\n\\\\nYou can expect about 3 to 8 days of rain in Rio De Janeiro during the month of May. It’s a good idea to bring along your umbrella so that you don’t get caught in poor weather.\\\\n\\\\nOur weather forecast can give you a great sense of what weather to expect in Rio De Janeiro in May 2025. [...] Month | Temperatures | Rainy Days | Dry Days | Snowy Days | Rainfall | Weather | More details\\\\nJanuary | 31°/22° | 15 | 16 | 0 | 340mm | Ok | Rio De Janeiro in January\\\\nFebruary | 31°/22° | 13 | 16 | 0 | 294mm | Ok | Rio De Janeiro in February\\\\nMarch | 30°/21° | 14 | 17 | 0 | 305mm | Ok | Rio De Janeiro in March\\\\nApril | 28°/19° | 7 | 23 | 0 | 136mm | Good | Rio De Janeiro in April\\\\nMay | 26°/17° | 4 | 27 | 0 | 110mm | Perfect | Rio De Janeiro in May [...] June | 25°/16° | 4 | 26 | 0 | 93mm | Perfect | Rio De Janeiro in June\\\\nJuly | 26°/16° | 4 | 27 | 0 | 71mm | Perfect | Rio De Janeiro in July\\\\nAugust | 26°/17° | 4 | 27 | 0 | 76mm | Perfect | Rio De Janeiro in August\\\\nSeptember | 28°/19° | 6 | 24 | 0 | 124mm | Perfect | Rio De Janeiro in September\\\\nOctober | 28°/20° | 9 | 22 | 0 | 200mm | Good | Rio De Janeiro in October\\\\nNovember | 28°/20° | 14 | 16 | 0 | 364mm | Good | Rio De Janeiro in November\\', path=None, url=None, mimetype=None), image_resource=None, audio_resource=None, video_resource=None, text_template=\\'{metadata_str}\\\\n\\\\n{content}\\'), Document(id_=\\'df6b7edf-7346-458c-8eb5-e76f2b56f802\\', embedding=None, metadata={\\'url\\': \\'https://www.weatherapi.com/\\'}, excluded_embed_metadata_keys=[], excluded_llm_metadata_keys=[], relationships={}, metadata_template=\\'{key}: {value}\\', metadata_separator=\\'\\\\n\\', text_resource=MediaResource(embeddings=None, data=None, text=\"{\\'location\\': {\\'name\\': \\'Rio De Janeiro\\', \\'region\\': \\'Rio de Janeiro\\', \\'country\\': \\'Brazil\\', \\'lat\\': -22.9, \\'lon\\': -43.2333, \\'tz_id\\': \\'America/Sao_Paulo\\', \\'localtime_epoch\\': 1743882474, \\'localtime\\': \\'2025-04-05 16:47\\'}, \\'current\\': {\\'last_updated_epoch\\': 1743882300, \\'last_updated\\': \\'2025-04-05 16:45\\', \\'temp_c\\': 24.3, \\'temp_f\\': 75.7, \\'is_day\\': 1, \\'condition\\': {\\'text\\': \\'Overcast\\', \\'icon\\': \\'//cdn.weatherapi.com/weather/64x64/day/122.png\\', \\'code\\': 1009}, \\'wind_mph\\': 10.1, \\'wind_kph\\': 16.2, \\'wind_degree\\': 171, \\'wind_dir\\': \\'S\\', \\'pressure_mb\\': 1021.0, \\'pressure_in\\': 30.15, \\'precip_mm\\': 0.79, \\'precip_in\\': 0.03, \\'humidity\\': 83, \\'cloud\\': 100, \\'feelslike_c\\': 26.5, \\'feelslike_f\\': 79.6, \\'windchill_c\\': 22.4, \\'windchill_f\\': 72.4, \\'heatindex_c\\': 24.7, \\'heatindex_f\\': 76.5, \\'dewpoint_c\\': 19.8, \\'dewpoint_f\\': 67.6, \\'vis_km\\': 8.0, \\'vis_miles\\': 4.0, \\'uv\\': 0.1, \\'gust_mph\\': 15.7, \\'gust_kph\\': 25.3}}\", path=None, url=None, mimetype=None), image_resource=None, audio_resource=None, video_resource=None, text_template=\\'{metadata_str}\\\\n\\\\n{content}\\'), Document(id_=\\'023f7996-31dd-44de-8110-92211926ce20\\', embedding=None, metadata={\\'url\\': \\'https://www.ventusky.com/-22.910;-43.180\\'}, excluded_embed_metadata_keys=[], excluded_llm_metadata_keys=[], relationships={}, metadata_template=\\'{key}: {value}\\', metadata_separator=\\'\\\\n\\', text_resource=MediaResource(embeddings=None, data=None, text=\\'Ventusky: Weather Forecast Maps\\\\n\\\\nRio de Janeiro\\\\n\\\\n | 24 °C\\\\n\\\\nWind20 km/h\\\\nHumidity | 83 %\\\\nVisibility | 8 km\\\\nClouds | 100 %\\\\nCloud base | 609 m\\\\nWeather report from station Santos Dumont/ri, Distance: 3 km (16:00 2025/04/05)\\\\n\\\\nWeather for the next 24 hours\\', path=None, url=None, mimetype=None), image_resource=None, audio_resource=None, video_resource=None, text_template=\\'{metadata_str}\\\\n\\\\n{content}\\')]')])]\n",
      "Agent name: Agent\n",
      "The current weather in Rio de Janeiro is overcast with a temperature of 24.3°C. The wind speed is 16.2 km/h, and the humidity is at 83%. If you need more detailed information, please let me know!Agent output:  assistant: The current weather in Rio de Janeiro is overcast with a temperature of 24.3°C. The wind speed is 16.2 km/h, and the humidity is at 83%. If you need more detailed information, please let me know!\n",
      "Tool calls made:  []\n",
      "Raw LLM response:  {'id': 'chatcmpl-BJ3mkYrbMy0r5n1uAFrOlyB2fUAkw', 'choices': [{'delta': {'content': None, 'function_call': None, 'refusal': None, 'role': None, 'tool_calls': None}, 'finish_reason': 'stop', 'index': 0, 'logprobs': None}], 'created': 1743882482, 'model': 'gpt-3.5-turbo-1106', 'object': 'chat.completion.chunk', 'service_tier': 'default', 'system_fingerprint': 'fp_c66b5540ac', 'usage': None}\n",
      "The current weather in Rio de Janeiro is overcast with a temperature of 24.3°C. The wind speed is 16.2 km/h, and the humidity is at 83%. If you need more detailed information, please let me know!\n"
     ]
    }
   ],
   "source": [
    "async def main():\n",
    "    handler = workflow.run(user_msg=\"What's the weather like in Rio de Janeiro right now?\")\n",
    "\n",
    "    # handle streaming output\n",
    "    async for event in handler.stream_events():\n",
    "        if isinstance(event, AgentStream):\n",
    "            print(event.delta, end=\"\", flush=True)\n",
    "        elif isinstance(event, AgentInput):\n",
    "            print(\"Agent input: \", event.input)  # the current input messages\n",
    "            print(\"Agent name:\", event.current_agent_name)  # the current agent name\n",
    "        elif isinstance(event, AgentOutput):\n",
    "            print(\"Agent output: \", event.response)  # the current full response\n",
    "            print(\"Tool calls made: \", event.tool_calls)  # the selected tool calls, if any\n",
    "            print(\"Raw LLM response: \", event.raw)  # the raw llm api response\n",
    "        elif isinstance(event, ToolCallResult):\n",
    "            print(\"Tool called: \", event.tool_name)  # the tool name\n",
    "            print(\"Arguments to the tool: \", event.tool_kwargs)  # the tool kwargs\n",
    "            print(\"Tool output: \", event.tool_output)  # the tool output            \n",
    "\n",
    "    # print final output\n",
    "    print(str(await handler))\n",
    "\n",
    "if __name__ == \"__main__\":\n",
    "    import asyncio\n",
    "    asyncio.run(main())"
   ]
  },
  {
   "cell_type": "code",
   "execution_count": 9,
   "metadata": {},
   "outputs": [],
   "source": [
    "import nest_asyncio\n",
    "nest_asyncio.apply()"
   ]
  }
 ],
 "metadata": {
  "kernelspec": {
   "display_name": "venv",
   "language": "python",
   "name": "python3"
  },
  "language_info": {
   "codemirror_mode": {
    "name": "ipython",
    "version": 3
   },
   "file_extension": ".py",
   "mimetype": "text/x-python",
   "name": "python",
   "nbconvert_exporter": "python",
   "pygments_lexer": "ipython3",
   "version": "3.12.3"
  }
 },
 "nbformat": 4,
 "nbformat_minor": 2
}
