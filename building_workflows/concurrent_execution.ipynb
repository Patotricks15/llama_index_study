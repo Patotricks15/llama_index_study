{
 "cells": [
  {
   "cell_type": "code",
   "execution_count": 1,
   "metadata": {},
   "outputs": [],
   "source": [
    "from llama_index.core.workflow import (\n",
    "    StartEvent,\n",
    "    StopEvent,\n",
    "    Workflow,\n",
    "    step,\n",
    "    Event,\n",
    "    Context,\n",
    ")"
   ]
  },
  {
   "cell_type": "code",
   "execution_count": 2,
   "metadata": {},
   "outputs": [],
   "source": [
    "class StepAEvent(Event):\n",
    "    query: str\n",
    "\n",
    "\n",
    "class StepBEvent(Event):\n",
    "    query: str\n",
    "\n",
    "\n",
    "class StepCEvent(Event):\n",
    "    query: str\n",
    "\n",
    "\n",
    "class StepACompleteEvent(Event):\n",
    "    result: str\n",
    "\n",
    "class StepBCompleteEvent(Event):    \n",
    "    result: str\n",
    "\n",
    "class StepCCompleteEvent(Event):    \n",
    "    result: str\n"
   ]
  },
  {
   "cell_type": "code",
   "execution_count": null,
   "metadata": {},
   "outputs": [],
   "source": []
  },
  {
   "cell_type": "code",
   "execution_count": 3,
   "metadata": {},
   "outputs": [],
   "source": [
    "class ConcurrentFlow(Workflow):\n",
    "    @step\n",
    "    async def start(\n",
    "        self, ctx: Context, ev: StartEvent\n",
    "    ) -> StepAEvent | StepBEvent | StepCEvent:\n",
    "        ctx.send_event(StepAEvent(query=\"Query 1\"))\n",
    "        ctx.send_event(StepBEvent(query=\"Query 2\"))\n",
    "        ctx.send_event(StepCEvent(query=\"Query 3\"))\n",
    "\n",
    "    @step\n",
    "    async def step_a(self, ctx: Context, ev: StepAEvent) -> StepACompleteEvent:\n",
    "        print(\"Doing something A-ish\")\n",
    "        return StepACompleteEvent(result=ev.query)\n",
    "\n",
    "    @step\n",
    "    async def step_b(self, ctx: Context, ev: StepBEvent) -> StepBCompleteEvent:\n",
    "        print(\"Doing something B-ish\")\n",
    "        return StepBCompleteEvent(result=ev.query)\n",
    "\n",
    "    @step\n",
    "    async def step_c(self, ctx: Context, ev: StepCEvent) -> StepCCompleteEvent:\n",
    "        print(\"Doing something C-ish\")\n",
    "        return StepCCompleteEvent(result=ev.query)\n",
    "\n",
    "    @step\n",
    "    async def step_three(\n",
    "        self,\n",
    "        ctx: Context,\n",
    "        ev: StepACompleteEvent | StepBCompleteEvent | StepCCompleteEvent,\n",
    "    ) -> StopEvent:\n",
    "        print(\"Received event \", ev.result)\n",
    "\n",
    "        # wait until we receive 3 events\n",
    "        if (\n",
    "            ctx.collect_events(\n",
    "                ev,\n",
    "                [StepCCompleteEvent, StepACompleteEvent, StepBCompleteEvent],\n",
    "            )\n",
    "            is None\n",
    "        ):\n",
    "            return None\n",
    "\n",
    "        # do something with all 3 results together\n",
    "        return StopEvent(result=\"Done\")"
   ]
  },
  {
   "cell_type": "code",
   "execution_count": 4,
   "metadata": {},
   "outputs": [
    {
     "name": "stdout",
     "output_type": "stream",
     "text": [
      "Doing something A-ish\n",
      "Doing something B-ish\n",
      "Doing something C-ish\n",
      "Received event  Query 1\n",
      "Received event  Query 2\n",
      "Received event  Query 3\n"
     ]
    }
   ],
   "source": [
    "result = await ConcurrentFlow(timeout=10, verbose=False).run()"
   ]
  },
  {
   "cell_type": "code",
   "execution_count": null,
   "metadata": {},
   "outputs": [],
   "source": []
  }
 ],
 "metadata": {
  "kernelspec": {
   "display_name": "venv",
   "language": "python",
   "name": "python3"
  },
  "language_info": {
   "codemirror_mode": {
    "name": "ipython",
    "version": 3
   },
   "file_extension": ".py",
   "mimetype": "text/x-python",
   "name": "python",
   "nbconvert_exporter": "python",
   "pygments_lexer": "ipython3",
   "version": "3.12.3"
  }
 },
 "nbformat": 4,
 "nbformat_minor": 2
}
