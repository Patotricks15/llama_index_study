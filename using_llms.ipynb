{
 "cells": [
  {
   "cell_type": "code",
   "execution_count": 1,
   "metadata": {},
   "outputs": [],
   "source": [
    "from llama_index.llms.openai import OpenAI"
   ]
  },
  {
   "cell_type": "code",
   "execution_count": 24,
   "metadata": {},
   "outputs": [],
   "source": [
    "from llama_index.core.llms import ChatMessage, TextBlock, ImageBlock\n",
    "from llama_index.llms.ollama import Ollama\n",
    "\n",
    "llm = Ollama(model=\"llama3.2:1b\")\n"
   ]
  },
  {
   "cell_type": "code",
   "execution_count": 22,
   "metadata": {},
   "outputs": [
    {
     "data": {
      "text/plain": [
       "CompletionResponse(text='The capital of France is Paris.', additional_kwargs={'prompt_tokens': 14, 'completion_tokens': 8, 'total_tokens': 22}, raw=ChatCompletion(id='chatcmpl-BIfgTfdV2yMFBo7Lx7lNBTcArwtIO', choices=[Choice(finish_reason='stop', index=0, logprobs=None, message=ChatCompletionMessage(content='The capital of France is Paris.', refusal=None, role='assistant', annotations=[], audio=None, function_call=None, tool_calls=None))], created=1743789837, model='gpt-3.5-turbo-1106', object='chat.completion', service_tier='default', system_fingerprint='fp_c66b5540ac', usage=CompletionUsage(completion_tokens=8, prompt_tokens=14, total_tokens=22, completion_tokens_details=CompletionTokensDetails(accepted_prediction_tokens=0, audio_tokens=0, reasoning_tokens=0, rejected_prediction_tokens=0), prompt_tokens_details=PromptTokensDetails(audio_tokens=0, cached_tokens=0))), logprobs=None, delta=None)"
      ]
     },
     "execution_count": 22,
     "metadata": {},
     "output_type": "execute_result"
    }
   ],
   "source": [
    "OpenAI(model=\"gpt-3.5-turbo-1106\").complete(\"What is the capital of France?\")"
   ]
  },
  {
   "cell_type": "code",
   "execution_count": 8,
   "metadata": {},
   "outputs": [
    {
     "data": {
      "text/plain": [
       "ChatResponse(message=ChatMessage(role=<MessageRole.ASSISTANT: 'assistant'>, additional_kwargs={}, blocks=[TextBlock(block_type='text', text='The capital of France is Paris.')]), raw=ChatCompletion(id='chatcmpl-BIf2DHFevo9ol7Td6s7YoCwr2fqyv', choices=[Choice(finish_reason='stop', index=0, logprobs=None, message=ChatCompletionMessage(content='The capital of France is Paris.', refusal=None, role='assistant', annotations=[], audio=None, function_call=None, tool_calls=None))], created=1743787341, model='gpt-3.5-turbo-1106', object='chat.completion', service_tier='default', system_fingerprint='fp_c66b5540ac', usage=CompletionUsage(completion_tokens=8, prompt_tokens=24, total_tokens=32, completion_tokens_details=CompletionTokensDetails(accepted_prediction_tokens=0, audio_tokens=0, reasoning_tokens=0, rejected_prediction_tokens=0), prompt_tokens_details=PromptTokensDetails(audio_tokens=0, cached_tokens=0))), delta=None, logprobs=None, additional_kwargs={'prompt_tokens': 24, 'completion_tokens': 8, 'total_tokens': 32})"
      ]
     },
     "execution_count": 8,
     "metadata": {},
     "output_type": "execute_result"
    }
   ],
   "source": [
    "messages = [\n",
    "    ChatMessage(role='system', content='You are a helpful assistant.'),\n",
    "    ChatMessage(role='user', content='What is the capital of France?'),\n",
    "]\n",
    "\n",
    "llm.chat(messages)"
   ]
  },
  {
   "cell_type": "code",
   "execution_count": 27,
   "metadata": {},
   "outputs": [
    {
     "name": "stdout",
     "output_type": "stream",
     "text": [
      "The image features a stylized depiction of a samurai warrior, standing in a dynamic pose. The samurai is dressed in traditional armor and holds two swords, one in each hand. Behind the warrior is a large red circle, reminiscent of the Japanese flag, which adds a bold backdrop to the scene. The overall design has a graphic, artistic quality, emphasizing the samurai's fierce and noble presence.\n"
     ]
    }
   ],
   "source": [
    "\n",
    "messages = [\n",
    "    ChatMessage(\n",
    "        role=\"user\",\n",
    "        blocks=[\n",
    "            ImageBlock(path=\"samurai_example.jpg\"),\n",
    "            TextBlock(text=\"Describe the image in a few sentences.\"),\n",
    "        ],\n",
    "    )\n",
    "]\n",
    "\n",
    "resp = OpenAI(model=\"gpt-4o-mini\").chat(messages)\n",
    "print(resp.message.content)"
   ]
  },
  {
   "cell_type": "code",
   "execution_count": 23,
   "metadata": {},
   "outputs": [
    {
     "data": {
      "text/plain": [
       "CompletionResponse(text='The capital of France is Paris.', additional_kwargs={'tool_calls': []}, raw={'model': 'llama3.2:1b', 'created_at': '2025-04-04T18:04:11.956548397Z', 'done': True, 'done_reason': 'stop', 'total_duration': 690225214, 'load_duration': 37660411, 'prompt_eval_count': 32, 'prompt_eval_duration': 88000000, 'eval_count': 8, 'eval_duration': 563000000, 'message': Message(role='assistant', content='The capital of France is Paris.', images=None, tool_calls=None), 'usage': {'prompt_tokens': 32, 'completion_tokens': 8, 'total_tokens': 40}}, logprobs=None, delta=None)"
      ]
     },
     "execution_count": 23,
     "metadata": {},
     "output_type": "execute_result"
    }
   ],
   "source": [
    "Ollama(model=\"llama3.2:1b\").complete(\"What is the capital of France?\")"
   ]
  },
  {
   "cell_type": "code",
   "execution_count": null,
   "metadata": {},
   "outputs": [],
   "source": []
  }
 ],
 "metadata": {
  "kernelspec": {
   "display_name": "venv",
   "language": "python",
   "name": "python3"
  },
  "language_info": {
   "codemirror_mode": {
    "name": "ipython",
    "version": 3
   },
   "file_extension": ".py",
   "mimetype": "text/x-python",
   "name": "python",
   "nbconvert_exporter": "python",
   "pygments_lexer": "ipython3",
   "version": "3.12.3"
  }
 },
 "nbformat": 4,
 "nbformat_minor": 2
}
